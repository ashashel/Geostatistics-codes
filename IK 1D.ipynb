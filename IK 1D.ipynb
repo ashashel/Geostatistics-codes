{
 "cells": [
  {
   "cell_type": "code",
   "execution_count": 2,
   "metadata": {},
   "outputs": [],
   "source": [
    "import numpy as np\n",
    "import matplotlib.pyplot as plt"
   ]
  },
  {
   "cell_type": "code",
   "execution_count": 3,
   "metadata": {},
   "outputs": [],
   "source": [
    "#Given data:\n",
    "\n",
    "z=np.asmatrix(np.asarray([0.11,0.12,0.15,0.17,0.16,0.19,0.17])).T\n",
    "dist=(np.asarray([0,10,20,30,40,50,60]))"
   ]
  },
  {
   "cell_type": "code",
   "execution_count": 4,
   "metadata": {},
   "outputs": [
    {
     "data": {
      "text/plain": [
       "array([[1],\n",
       "       [1],\n",
       "       [0],\n",
       "       [0],\n",
       "       [0],\n",
       "       [0],\n",
       "       [0]])"
      ]
     },
     "execution_count": 4,
     "metadata": {},
     "output_type": "execute_result"
    }
   ],
   "source": [
    "#Categorized data\n",
    "\n",
    "cat=[0,1]\n",
    "\n",
    "z_cat=np.where(z>=0.15,cat[0],cat[1]) \n",
    "z_cat"
   ]
  },
  {
   "cell_type": "code",
   "execution_count": 5,
   "metadata": {},
   "outputs": [
    {
     "data": {
      "text/plain": [
       "0.20408163265306123"
      ]
     },
     "execution_count": 5,
     "metadata": {},
     "output_type": "execute_result"
    }
   ],
   "source": [
    "#Global mean for categorized data\n",
    "\n",
    "pk1=np.sum(z_cat==1)/len(z_cat)\n",
    "pk0=1-pk1\n",
    "\n",
    "pk0*(1-pk0)"
   ]
  },
  {
   "cell_type": "code",
   "execution_count": 6,
   "metadata": {},
   "outputs": [
    {
     "data": {
      "text/plain": [
       "(matrix([[1.],\n",
       "         [1.],\n",
       "         [0.],\n",
       "         [0.],\n",
       "         [0.],\n",
       "         [0.],\n",
       "         [0.]]),\n",
       " matrix([[0.],\n",
       "         [0.],\n",
       "         [1.],\n",
       "         [1.],\n",
       "         [1.],\n",
       "         [1.],\n",
       "         [1.]]))"
      ]
     },
     "execution_count": 6,
     "metadata": {},
     "output_type": "execute_result"
    }
   ],
   "source": [
    "#Probabilities of each categories at known points (hard data)\n",
    "\n",
    "P0,P1=[],[]\n",
    "for i in range(0,len(z_cat)):\n",
    "    P0=np.append(P0,np.where(z_cat[i]==cat[0],0,1))\n",
    "    P1=np.append(P1,np.where(z_cat[i]==cat[1],0,1))\n",
    "    \n",
    "P0,P1\n",
    "P0=np.matrix(P0).T\n",
    "P1=np.matrix(P1).T\n",
    "\n",
    "    \n",
    "P0,P1"
   ]
  },
  {
   "cell_type": "code",
   "execution_count": 7,
   "metadata": {},
   "outputs": [],
   "source": [
    "n_points=z_cat.shape[0]\n",
    "ones_vec=np.asmatrix(np.ones(n_points))"
   ]
  },
  {
   "cell_type": "code",
   "execution_count": 8,
   "metadata": {},
   "outputs": [
    {
     "data": {
      "text/plain": [
       "array([0.08333333, 0.2       , 0.25      , 0.33333333, 0.5       ,\n",
       "       0.5       ])"
      ]
     },
     "execution_count": 8,
     "metadata": {},
     "output_type": "execute_result"
    }
   ],
   "source": [
    "#Calculating the experimental variogram for cat. 0:\n",
    "n_lags=6\n",
    "Evar0=np.zeros(n_lags)\n",
    "for l in range(0,n_lags):\n",
    "    lags=l+1\n",
    "    Nh=len(P0[lags:])\n",
    "    Evar0[l]=(1/(2*Nh))*np.sum(np.power((P0[lags:,0]-P0[:-lags,0]),2))\n",
    "    \n",
    "Evar0"
   ]
  },
  {
   "cell_type": "code",
   "execution_count": 9,
   "metadata": {},
   "outputs": [
    {
     "data": {
      "text/plain": [
       "array([0.08333333, 0.2       , 0.25      , 0.33333333, 0.5       ,\n",
       "       0.5       ])"
      ]
     },
     "execution_count": 9,
     "metadata": {},
     "output_type": "execute_result"
    }
   ],
   "source": [
    "#Calculating the experimental variogram for cat. 1:\n",
    "n_lags=6\n",
    "Evar1=np.zeros(n_lags)\n",
    "for l in range(0,n_lags):\n",
    "    lags=l+1\n",
    "    Nh=len(P1[lags:])\n",
    "    Evar1[l]=(1/(2*Nh))*np.sum(np.power((P1[lags:,0]-P1[:-lags,0]),2))\n",
    "    \n",
    "Evar1"
   ]
  },
  {
   "cell_type": "code",
   "execution_count": 10,
   "metadata": {},
   "outputs": [
    {
     "data": {
      "image/png": "[encoded data removed]",
      "text/plain": [
       "<Figure size 432x288 with 1 Axes>"
      ]
     },
     "metadata": {
      "needs_background": "light"
     },
     "output_type": "display_data"
    }
   ],
   "source": [
    "# plt.plot(dist[1:],Evar0,'*')\n",
    "plt.plot(dist[1:],Evar1,'o')\n",
    "# plt.plot(dist[1:],Evar1,'o')\n",
    "plt.grid()\n",
    "# plt.ylim([0,1.1*max(Evar0)])"
   ]
  },
  {
   "cell_type": "code",
   "execution_count": 11,
   "metadata": {},
   "outputs": [],
   "source": [
    "def gass_var(h, a, c, n):\n",
    "    gamma = c*(1-np.exp(-3*np.power(h/a,2)))+n\n",
    "    return gamma"
   ]
  },
  {
   "cell_type": "code",
   "execution_count": 61,
   "metadata": {},
   "outputs": [
    {
     "data": {
      "text/plain": [
       "array([0.11419418, 0.18552669, 0.24300372, 0.27004259, 0.27815806,\n",
       "       0.27976582])"
      ]
     },
     "execution_count": 61,
     "metadata": {},
     "output_type": "execute_result"
    }
   ],
   "source": [
    "nugget=0.08\n",
    "rang=40\n",
    "sill=0.2\n",
    "gamma_gass=gass_var(dist[1:],rang,sill,nugget)\n",
    "gamma_gass"
   ]
  },
  {
   "cell_type": "code",
   "execution_count": 62,
   "metadata": {},
   "outputs": [
    {
     "data": {
      "text/plain": [
       "Text(0.5, 1.0, 'Spherical model')"
      ]
     },
     "execution_count": 62,
     "metadata": {},
     "output_type": "execute_result"
    },
    {
     "data": {
      "image/png": "[encoded data removed]",
      "text/plain": [
       "<Figure size 432x288 with 1 Axes>"
      ]
     },
     "metadata": {
      "needs_background": "light"
     },
     "output_type": "display_data"
    }
   ],
   "source": [
    "plt.plot(dist[1:], gamma_gass)\n",
    "plt.plot(dist[1:],Evar0,'*')\n",
    "plt.plot(dist[1:],Evar1,'o')\n",
    "plt.title(\"Spherical model\")"
   ]
  },
  {
   "cell_type": "markdown",
   "metadata": {},
   "source": [
    "**At 15m:**"
   ]
  },
  {
   "cell_type": "code",
   "execution_count": 63,
   "metadata": {},
   "outputs": [
    {
     "data": {
      "text/plain": [
       "(matrix([[1.],\n",
       "         [1.],\n",
       "         [0.]]),\n",
       " matrix([[0.],\n",
       "         [0.],\n",
       "         [1.]]))"
      ]
     },
     "execution_count": 63,
     "metadata": {},
     "output_type": "execute_result"
    }
   ],
   "source": [
    "P15_0=np.asmatrix(np.asarray(P0[0:3])) # - known porosity values around 15m for cat.1\n",
    "P15_1=np.asmatrix(np.asarray(P1[0:3])) # - known porosity values around 15m for cat.2\n",
    "u15=np.asmatrix(np.asarray(dist[0:3])).T # - distance around 15m\n",
    "uo_15=15\n",
    "\n",
    "P15_0,P15_1"
   ]
  },
  {
   "cell_type": "code",
   "execution_count": 64,
   "metadata": {},
   "outputs": [],
   "source": [
    "n_points=z_cat[0:3].shape[0]\n",
    "ones_vec=np.asmatrix(np.ones(n_points))"
   ]
  },
  {
   "cell_type": "code",
   "execution_count": 65,
   "metadata": {},
   "outputs": [],
   "source": [
    "u15_mat=u15*ones_vec"
   ]
  },
  {
   "cell_type": "code",
   "execution_count": 66,
   "metadata": {},
   "outputs": [],
   "source": [
    "dist15=np.sqrt(np.power(u15_mat-u15_mat.T,2)) # - distance matrix between known values around 15m\n",
    "dist_o15=np.sqrt(np.power(u15-uo_15,2)) # - distance matrix between unknown values around 15m"
   ]
  },
  {
   "cell_type": "code",
   "execution_count": 67,
   "metadata": {},
   "outputs": [
    {
     "data": {
      "text/plain": [
       "matrix([[0.08      , 0.11419418, 0.18552669],\n",
       "        [0.11419418, 0.08      , 0.11419418],\n",
       "        [0.18552669, 0.11419418, 0.08      ]])"
      ]
     },
     "execution_count": 67,
     "metadata": {},
     "output_type": "execute_result"
    }
   ],
   "source": [
    "gamma_i15=gass_var(dist15,rang,sill,nugget)\n",
    "gamma_i15"
   ]
  },
  {
   "cell_type": "code",
   "execution_count": 68,
   "metadata": {},
   "outputs": [
    {
     "data": {
      "text/plain": [
       "matrix([[0.1488368 ],\n",
       "        [0.08915867],\n",
       "        [0.08915867]])"
      ]
     },
     "execution_count": 68,
     "metadata": {},
     "output_type": "execute_result"
    }
   ],
   "source": [
    "gamma_o15=gass_var(dist_o15,rang,sill,nugget)\n",
    "gamma_o15"
   ]
  },
  {
   "cell_type": "code",
   "execution_count": 69,
   "metadata": {},
   "outputs": [],
   "source": [
    "C15 = sill-gamma_i15\n",
    "Co15 = sill-gamma_o15"
   ]
  },
  {
   "cell_type": "code",
   "execution_count": 70,
   "metadata": {},
   "outputs": [
    {
     "data": {
      "text/plain": [
       "matrix([[-0.13438383],\n",
       "        [ 0.71148087],\n",
       "        [ 0.43114259]])"
      ]
     },
     "execution_count": 70,
     "metadata": {},
     "output_type": "execute_result"
    }
   ],
   "source": [
    "lamb15=np.linalg.inv(C15)*Co15\n",
    "lamb15"
   ]
  },
  {
   "cell_type": "code",
   "execution_count": 100,
   "metadata": {},
   "outputs": [
    {
     "data": {
      "text/plain": [
       "(matrix([[0.57121159]]), matrix([[0.42878841]]))"
      ]
     },
     "execution_count": 100,
     "metadata": {},
     "output_type": "execute_result"
    }
   ],
   "source": [
    "prob15_0=sum(np.dot(lamb15.T,P15_0))+(np.dot(1-sum(lamb15),pk0))\n",
    "prob15_1=sum(np.dot(lamb15.T,P15_1))+(np.dot(1-sum(lamb15),pk1))\n",
    "\n",
    "sigma15=sill-lamb15.T*Co15 \n",
    "\n",
    "#Check\n",
    "prob15_0+prob15_1==1\n",
    "\n",
    "# Correct\n",
    "\n",
    "if prob25_0<0:\n",
    "    prob25_0=0\n",
    "if prob25_0>1:\n",
    "    prob25_0=1\n",
    "if prob25_1<0:\n",
    "    prob25_1=0\n",
    "if prob25_1>1:\n",
    "    prob25_1=1\n",
    "\n",
    "prob15_0_corr=prob15_0/(prob15_0+prob15_1)\n",
    "prob15_1_corr=prob15_1/(prob15_0+prob15_1)\n",
    "\n",
    "prob15_0_corr,prob15_1_corr"
   ]
  },
  {
   "cell_type": "code",
   "execution_count": 72,
   "metadata": {},
   "outputs": [
    {
     "name": "stdout",
     "output_type": "stream",
     "text": [
      "Estimated probability for Cat.0: [[0.57121159]]\n",
      "Estimated probability for Cat.1: [[0.42878841]]\n",
      "Estimated error variance: 0.0802\n"
     ]
    }
   ],
   "source": [
    "print('Estimated probability for Cat.0:', prob15_0)\n",
    "print('Estimated probability for Cat.1:', prob15_1)\n",
    "print('Estimated error variance:', round(sigma15[0,0],4))"
   ]
  },
  {
   "cell_type": "code",
   "execution_count": 73,
   "metadata": {},
   "outputs": [],
   "source": [
    "n_samples=200\n",
    "prn=np.random.random(n_samples)"
   ]
  },
  {
   "cell_type": "code",
   "execution_count": 74,
   "metadata": {},
   "outputs": [],
   "source": [
    "real=np.zeros(n_samples)"
   ]
  },
  {
   "cell_type": "code",
   "execution_count": 75,
   "metadata": {},
   "outputs": [
    {
     "name": "stdout",
     "output_type": "stream",
     "text": [
      "[1. 1. 1. 0. 0. 0. 1. 1. 1. 0. 0. 1. 0. 0. 1. 0. 1. 1. 0. 0. 0. 1. 0. 0.\n",
      " 0. 0. 0. 0. 1. 0. 0. 1. 1. 0. 0. 0. 1. 0. 0. 0. 0. 0. 0. 0. 1. 0. 1. 0.\n",
      " 0. 0. 0. 0. 1. 0. 0. 0. 0. 0. 0. 0. 0. 1. 1. 1. 0. 0. 0. 0. 0. 0. 0. 0.\n",
      " 1. 0. 0. 1. 1. 0. 1. 0. 0. 1. 0. 0. 1. 1. 1. 0. 1. 0. 0. 1. 0. 0. 1. 1.\n",
      " 1. 0. 1. 1. 0. 1. 1. 1. 0. 0. 1. 0. 1. 0. 0. 0. 0. 1. 0. 0. 0. 0. 1. 0.\n",
      " 1. 1. 0. 0. 1. 0. 1. 1. 0. 0. 1. 1. 0. 0. 0. 0. 0. 1. 0. 0. 0. 0. 0. 0.\n",
      " 1. 0. 1. 1. 1. 1. 1. 1. 0. 0. 0. 1. 1. 0. 1. 1. 1. 0. 1. 0. 0. 0. 0. 0.\n",
      " 0. 1. 0. 0. 0. 0. 1. 0. 1. 1. 0. 1. 1. 1. 1. 1. 0. 0. 1. 0. 0. 1. 0. 0.\n",
      " 0. 1. 0. 0. 0. 0. 0. 1.]\n"
     ]
    }
   ],
   "source": [
    "for n in range(0,n_samples):\n",
    "    if prn[n]<=prob15_0:\n",
    "        real[n]=cat[0]\n",
    "    else:\n",
    "        real[n]=cat[1]\n",
    "print(real)  "
   ]
  },
  {
   "cell_type": "code",
   "execution_count": 76,
   "metadata": {},
   "outputs": [
    {
     "name": "stdout",
     "output_type": "stream",
     "text": [
      "Estimated category at 15m: 0\n"
     ]
    }
   ],
   "source": [
    "from collections import Counter\n",
    "\n",
    "count = Counter(real)\n",
    "b=count.most_common(1) #Return an array of the n most common elements and their counts from the most common to the least\n",
    "\n",
    "E15=b[0][0]\n",
    "print('Estimated category at 15m:', round(int(E15)))"
   ]
  },
  {
   "cell_type": "markdown",
   "metadata": {},
   "source": [
    "**At 25m:**"
   ]
  },
  {
   "cell_type": "code",
   "execution_count": 101,
   "metadata": {},
   "outputs": [],
   "source": [
    "P25_0=np.asmatrix(np.asarray(P0[1:4])) # - known porosity values around 15m for cat.1\n",
    "P25_1=np.asmatrix(np.asarray(P1[1:4])) # - known porosity values around 15m for cat.2\n",
    "u25=np.asmatrix(np.asarray(dist[1:4])).T # - distance around 15m\n",
    "uo_25=25"
   ]
  },
  {
   "cell_type": "code",
   "execution_count": 102,
   "metadata": {},
   "outputs": [],
   "source": [
    "n_points=z_cat[1:4].shape[0]\n",
    "ones_vec=np.asmatrix(np.ones(n_points))"
   ]
  },
  {
   "cell_type": "code",
   "execution_count": 103,
   "metadata": {},
   "outputs": [],
   "source": [
    "u25_mat=u25*ones_vec"
   ]
  },
  {
   "cell_type": "code",
   "execution_count": 104,
   "metadata": {},
   "outputs": [],
   "source": [
    "dist25=np.sqrt(np.power(u25_mat-u25_mat.T,2)) # - distance matrix between known values around 15m\n",
    "dist_o25=np.sqrt(np.power(u25-uo_25,2)) # - distance matrix between unknown values around 15m"
   ]
  },
  {
   "cell_type": "code",
   "execution_count": 105,
   "metadata": {},
   "outputs": [
    {
     "data": {
      "text/plain": [
       "matrix([[0.08      , 0.11419418, 0.18552669],\n",
       "        [0.11419418, 0.08      , 0.11419418],\n",
       "        [0.18552669, 0.11419418, 0.08      ]])"
      ]
     },
     "execution_count": 105,
     "metadata": {},
     "output_type": "execute_result"
    }
   ],
   "source": [
    "gamma_i25=gass_var(dist25,rang,sill,nugget)\n",
    "gamma_i25"
   ]
  },
  {
   "cell_type": "code",
   "execution_count": 106,
   "metadata": {},
   "outputs": [
    {
     "data": {
      "text/plain": [
       "matrix([[0.1488368 ],\n",
       "        [0.08915867],\n",
       "        [0.08915867]])"
      ]
     },
     "execution_count": 106,
     "metadata": {},
     "output_type": "execute_result"
    }
   ],
   "source": [
    "gamma_o25=gass_var(dist_o25,rang,sill,nugget)\n",
    "gamma_o25"
   ]
  },
  {
   "cell_type": "code",
   "execution_count": 107,
   "metadata": {},
   "outputs": [],
   "source": [
    "C25 = sill-gamma_i25\n",
    "Co25 = sill-gamma_o25"
   ]
  },
  {
   "cell_type": "code",
   "execution_count": 108,
   "metadata": {},
   "outputs": [
    {
     "data": {
      "text/plain": [
       "matrix([[-0.13438383],\n",
       "        [ 0.71148087],\n",
       "        [ 0.43114259]])"
      ]
     },
     "execution_count": 108,
     "metadata": {},
     "output_type": "execute_result"
    }
   ],
   "source": [
    "lamb25=np.linalg.inv(C25)*Co25\n",
    "lamb25"
   ]
  },
  {
   "cell_type": "code",
   "execution_count": 109,
   "metadata": {},
   "outputs": [
    {
     "data": {
      "text/plain": [
       "True"
      ]
     },
     "execution_count": 109,
     "metadata": {},
     "output_type": "execute_result"
    }
   ],
   "source": [
    "prob25_0=sum(np.dot(lamb25.T,P25_0))+(np.dot(1-sum(lamb25),pk0))\n",
    "prob25_1=sum(np.dot(lamb25.T,P25_1))+(np.dot(1-sum(lamb25),pk1))\n",
    "\n",
    "sigma25=sill-lamb25.T*Co25 \n",
    "\n",
    "# Correct\n",
    "\n",
    "if prob25_0<0:\n",
    "    prob25_0=0\n",
    "if prob25_0>1:\n",
    "    prob25_0=1\n",
    "if prob25_1<0:\n",
    "    prob25_1=0\n",
    "if prob25_1>1:\n",
    "    prob25_1=1\n",
    "\n",
    "\n",
    "prob25_0_corr=prob25_0/(prob25_0+prob25_1)\n",
    "prob25_1_corr=prob25_1/(prob25_0+prob25_1)\n",
    "\n",
    "#Check\n",
    "prob25_0_corr+prob25_1_corr==1"
   ]
  },
  {
   "cell_type": "code",
   "execution_count": 110,
   "metadata": {},
   "outputs": [
    {
     "data": {
      "text/plain": [
       "matrix([[-0.00235418]])"
      ]
     },
     "execution_count": 110,
     "metadata": {},
     "output_type": "execute_result"
    }
   ],
   "source": [
    "(np.dot(1-sum(lamb25),pk1))"
   ]
  },
  {
   "cell_type": "code",
   "execution_count": 111,
   "metadata": {},
   "outputs": [
    {
     "name": "stdout",
     "output_type": "stream",
     "text": [
      "Estimated probability for Cat.0: 0.0\n",
      "Estimated probability for Cat.1: 1.0\n",
      "Estimated error variance: 0.0802\n"
     ]
    }
   ],
   "source": [
    "print('Estimated probability for Cat.0:', prob25_0_corr)\n",
    "print('Estimated probability for Cat.1:', prob25_1_corr)\n",
    "print('Estimated error variance:', round(sigma25[0,0],4))"
   ]
  },
  {
   "cell_type": "code",
   "execution_count": 112,
   "metadata": {},
   "outputs": [],
   "source": [
    "n_samples=200\n",
    "prn=np.random.random(n_samples)"
   ]
  },
  {
   "cell_type": "code",
   "execution_count": 113,
   "metadata": {},
   "outputs": [],
   "source": [
    "real=np.zeros(n_samples)"
   ]
  },
  {
   "cell_type": "code",
   "execution_count": 114,
   "metadata": {},
   "outputs": [
    {
     "name": "stdout",
     "output_type": "stream",
     "text": [
      "[1. 1. 1. 1. 1. 1. 1. 1. 1. 1. 1. 1. 1. 1. 1. 1. 1. 1. 1. 1. 1. 1. 1. 1.\n",
      " 1. 1. 1. 1. 1. 1. 1. 1. 1. 1. 1. 1. 1. 1. 1. 1. 1. 1. 1. 1. 1. 1. 1. 1.\n",
      " 1. 1. 1. 1. 1. 1. 1. 1. 1. 1. 1. 1. 1. 1. 1. 1. 1. 1. 1. 1. 1. 1. 1. 1.\n",
      " 1. 1. 1. 1. 1. 1. 1. 1. 1. 1. 1. 1. 1. 1. 1. 1. 1. 1. 1. 1. 1. 1. 1. 1.\n",
      " 1. 1. 1. 1. 1. 1. 1. 1. 1. 1. 1. 1. 1. 1. 1. 1. 1. 1. 1. 1. 1. 1. 1. 1.\n",
      " 1. 1. 1. 1. 1. 1. 1. 1. 1. 1. 1. 1. 1. 1. 1. 1. 1. 1. 1. 1. 1. 1. 1. 1.\n",
      " 1. 1. 1. 1. 1. 1. 1. 1. 1. 1. 1. 1. 1. 1. 1. 1. 1. 1. 1. 1. 1. 1. 1. 1.\n",
      " 1. 1. 1. 1. 1. 1. 1. 1. 1. 1. 1. 1. 1. 1. 1. 1. 1. 1. 1. 1. 1. 1. 1. 1.\n",
      " 1. 1. 1. 1. 1. 1. 1. 1.]\n"
     ]
    }
   ],
   "source": [
    "for n in range(0,n_samples):\n",
    "    if prn[n]<=prob25_0:\n",
    "        real[n]=cat[0]\n",
    "    else:\n",
    "        real[n]=cat[1]\n",
    "print(real) "
   ]
  },
  {
   "cell_type": "code",
   "execution_count": 115,
   "metadata": {},
   "outputs": [
    {
     "name": "stdout",
     "output_type": "stream",
     "text": [
      "Estimated category at 25m: 1\n"
     ]
    }
   ],
   "source": [
    "from collections import Counter\n",
    "\n",
    "count = Counter(real)\n",
    "b=count.most_common(1) #Return an array of the n most common elements and their counts from the most common to the least\n",
    "\n",
    "E25=b[0][0]\n",
    "print('Estimated category at 25m:', round(int(E25)))"
   ]
  },
  {
   "cell_type": "code",
   "execution_count": null,
   "metadata": {},
   "outputs": [],
   "source": []
  }
 ],
 "metadata": {
  "kernelspec": {
   "display_name": "Python 3",
   "language": "python",
   "name": "python3"
  },
  "language_info": {
   "codemirror_mode": {
    "name": "ipython",
    "version": 3
   },
   "file_extension": ".py",
   "mimetype": "text/x-python",
   "name": "python",
   "nbconvert_exporter": "python",
   "pygments_lexer": "ipython3",
   "version": "3.8.5"
  }
 },
 "nbformat": 4,
 "nbformat_minor": 4
}
